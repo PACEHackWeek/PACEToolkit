{
 "cells": [
  {
   "cell_type": "code",
   "execution_count": null,
   "id": "1e9a6477-5c2c-4699-94d2-7de531a83fd3",
   "metadata": {},
   "outputs": [],
   "source": [
    "# Library to work with netCDF files\n",
    "from netCDF4 import Dataset\n",
    "\n",
    "\n",
    "import earthaccess\n",
    "import xarray as xr\n",
    "from xarray.backends.api import open_datatree\n",
    "import matplotlib.pyplot as plt\n",
    "import cartopy.crs as ccrs\n",
    "import numpy as np"
   ]
  },
  {
   "cell_type": "code",
   "execution_count": null,
   "id": "49207a1d-4cb3-4961-8bcc-21e855ee138b",
   "metadata": {},
   "outputs": [],
   "source": [
    "fileName = 'AEROMMA-UW-WRFCHEM_DC8_20230802_R0.curtain.nc'\n",
    "# Open a .nc file (\"file_name\")\n",
    "file_id = Dataset(fileName)"
   ]
  }
 ],
 "metadata": {
  "kernelspec": {
   "display_name": "Python 3 (ipykernel)",
   "language": "python",
   "name": "python3"
  },
  "language_info": {
   "codemirror_mode": {
    "name": "ipython",
    "version": 3
   },
   "file_extension": ".py",
   "mimetype": "text/x-python",
   "name": "python",
   "nbconvert_exporter": "python",
   "pygments_lexer": "ipython3",
   "version": "3.10.14"
  }
 },
 "nbformat": 4,
 "nbformat_minor": 5
}
