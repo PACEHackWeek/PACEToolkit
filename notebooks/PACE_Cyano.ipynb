{
 "cells": [
  {
   "cell_type": "markdown",
   "metadata": {},
   "source": [
    "## What is HyperCoast?\n",
    "HyperCoast streamlines the processing of hyperspectral data from existing spaceborne and airborne missions (e.g., PACE, EMIT, AVIRIS, NEON, and DESIS) and upcoming hyperspectral missions, such as, SBG and GLIMR.\n",
    "\n",
    "https://hypercoast.org\n",
    "\n",
    "<img src=\"https://i.imgur.com/HBMjW6o.gif\" width=\"500\" alt=\"HyperCoast Processing\">"
   ]
  },
  {
   "cell_type": "markdown",
   "metadata": {},
   "source": [
    "Uncomment the following cell to install the HyperCoast package."
   ]
  },
  {
   "cell_type": "code",
   "execution_count": null,
   "metadata": {},
   "outputs": [],
   "source": [
    "# %pip install hypercoast"
   ]
  },
  {
   "cell_type": "markdown",
   "metadata": {},
   "source": [
    "Import libraries"
   ]
  },
  {
   "cell_type": "code",
   "execution_count": null,
   "metadata": {},
   "outputs": [],
   "source": [
    "import hypercoast\n",
    "import pandas as pd"
   ]
  },
  {
   "cell_type": "markdown",
   "metadata": {},
   "source": [
    "Download a sample dataset."
   ]
  },
  {
   "cell_type": "code",
   "execution_count": null,
   "metadata": {},
   "outputs": [],
   "source": [
    "filepath = \"../data/Bingqing/PACE_OCI.20240730T181157.L2.OC_AOP.V2_0.NRT.nc\"\n",
    "dataset = hypercoast.read_pace(filepath)"
   ]
  },
  {
   "cell_type": "markdown",
   "metadata": {},
   "source": [
    "Load the HYpoxia field data."
   ]
  },
  {
   "cell_type": "code",
   "execution_count": null,
   "metadata": {},
   "outputs": [],
   "source": [
    "kml_path = \"../data/Bingqing/GOM_Hypoxia.kml\"\n",
    "filepath = \"../data/Bingqing/Hypoxia_Data_Sheet.xlsx\"\n",
    "df = pd.read_excel(filepath)\n",
    "df.head()"
   ]
  },
  {
   "cell_type": "code",
   "execution_count": null,
   "metadata": {},
   "outputs": [],
   "source": [
    "df_filtered = df.dropna(subset=['Lon', 'Lat']).reset_index(drop=True)\n",
    "df_filtered.head()"
   ]
  },
  {
   "cell_type": "markdown",
   "metadata": {},
   "source": [
    "Visualize PACE image and field data on an interactive map."
   ]
  },
  {
   "cell_type": "code",
   "execution_count": null,
   "metadata": {},
   "outputs": [],
   "source": [
    "m = hypercoast.Map()\n",
    "m.add_basemap(\"Hybrid\")\n",
    "wavelengths = [450, 550, 650]\n",
    "m.add_pace(\n",
    "    dataset, wavelengths, indexes=[3, 2, 1], vmin=0, vmax=0.02, layer_name=\"PACE\"\n",
    ")\n",
    "m.add(\"spectral\")\n",
    "style = {\"weight\": 2, \"color\": \"red\"}\n",
    "m.add_kml(kml_path, style=style, layer_name=\"Hypoxia Path\", info_mode=None)\n",
    "m.add_points_from_xy(df_filtered, x=\"Lon\", y=\"Lat\", max_cluster_radius=50, layer_name=\"Hypoxia Data Points\")\n",
    "m.set_center(-91.46118, 28.89758, zoom=8)\n",
    "m"
   ]
  },
  {
   "cell_type": "markdown",
   "metadata": {},
   "source": [
    "## Checkout the demo: \n",
    "\n",
    "https://i.imgur.com/JdgotIT.gif"
   ]
  },
  {
   "cell_type": "markdown",
   "metadata": {},
   "source": [
    "![](https://i.imgur.com/JdgotIT.gif)"
   ]
  },
  {
   "cell_type": "markdown",
   "metadata": {},
   "source": [
    "Compute band ratios."
   ]
  },
  {
   "cell_type": "code",
   "execution_count": null,
   "metadata": {},
   "outputs": [],
   "source": [
    "da = dataset[\"Rrs\"]\n",
    "data = (da.sel(wavelength=650) > da.sel(wavelength=620)) & (da.sel(wavelength=701) > da.sel(wavelength=681)) & (da.sel(wavelength=701) > da.sel(wavelength=450))"
   ]
  },
  {
   "cell_type": "markdown",
   "metadata": {},
   "source": [
    "## The spectra of cyanobacteria bloom:\n",
    "\n",
    "![](https://i.imgur.com/pQP50bz.png)"
   ]
  },
  {
   "cell_type": "markdown",
   "metadata": {},
   "source": [
    "Visualize the selected region based on band ratios."
   ]
  },
  {
   "cell_type": "code",
   "execution_count": null,
   "metadata": {},
   "outputs": [],
   "source": [
    "import xarray as xr\n",
    "import matplotlib.pyplot as plt\n",
    "import cartopy.crs as ccrs\n",
    "import cartopy.feature as cfeature\n",
    "\n",
    "# Create a plot\n",
    "fig, ax = plt.subplots(figsize=(12, 6), subplot_kw={'projection': ccrs.PlateCarree()})\n",
    "\n",
    "#ax.set_extent([-93, -87, 28, 32], crs=ccrs.PlateCarree())\n",
    "\n",
    "# Plot the data\n",
    "data.plot(ax=ax, transform=ccrs.PlateCarree(), cmap='coolwarm', cbar_kwargs={'label': 'Cyano'},)\n",
    "\n",
    "# Add coastlines\n",
    "ax.coastlines()\n",
    "\n",
    "# Add state boundaries\n",
    "states_provinces = cfeature.NaturalEarthFeature(\n",
    "    category='cultural',\n",
    "    name='admin_1_states_provinces_lines',\n",
    "    scale='50m',\n",
    "    facecolor='none')\n",
    "\n",
    "ax.add_feature(states_provinces, edgecolor='gray')\n",
    "\n",
    "# Optionally, add gridlines, labels, etc.\n",
    "ax.gridlines(draw_labels=True)\n",
    "\n",
    "plt.show()\n"
   ]
  },
  {
   "cell_type": "markdown",
   "metadata": {},
   "source": [
    "## What you can do next about Cyanobacteria using PACE???\n",
    "\n",
    "Spectral Angle Mapper: Spectral similarity \n",
    "Input: library of Cyanobacteria bloom Rrs spectra with Chla at different levels\n",
    "\n",
    "Spectral Mixture Analysis: unmix different cyanobacteria species based on spectral difference.\n",
    "\n",
    "![](https://i.imgur.com/xLaLMA4.png)"
   ]
  }
 ],
 "metadata": {
  "kernelspec": {
   "display_name": "hyper",
   "language": "python",
   "name": "python3"
  },
  "language_info": {
   "codemirror_mode": {
    "name": "ipython",
    "version": 3
   },
   "file_extension": ".py",
   "mimetype": "text/x-python",
   "name": "python",
   "nbconvert_exporter": "python",
   "pygments_lexer": "ipython3",
   "version": "3.11.8"
  }
 },
 "nbformat": 4,
 "nbformat_minor": 2
}
