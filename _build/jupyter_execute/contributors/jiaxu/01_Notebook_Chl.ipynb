{
 "cells": [
  {
   "cell_type": "markdown",
   "id": "ce715fc3-ca10-4627-b7be-a8bfdb3a4920",
   "metadata": {},
   "source": [
    "# This is the title"
   ]
  },
  {
   "cell_type": "code",
   "execution_count": null,
   "id": "1b805b40-c5c5-4635-bd69-f0da9969ed7e",
   "metadata": {},
   "outputs": [],
   "source": []
  }
 ],
 "metadata": {
  "kernelspec": {
   "display_name": "Python 3 (ipykernel)",
   "language": "python",
   "name": "python3"
  },
  "language_info": {
   "codemirror_mode": {
    "name": "ipython",
    "version": 3
   },
   "file_extension": ".py",
   "mimetype": "text/x-python",
   "name": "python",
   "nbconvert_exporter": "python",
   "pygments_lexer": "ipython3",
   "version": "3.10.14"
  }
 },
 "nbformat": 4,
 "nbformat_minor": 5
}